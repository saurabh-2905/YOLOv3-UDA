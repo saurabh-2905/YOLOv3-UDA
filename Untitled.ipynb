{
 "cells": [
  {
   "cell_type": "code",
   "execution_count": 1,
   "metadata": {},
   "outputs": [],
   "source": [
    "import torch\n",
    "import torchvision.transforms as transforms\n",
    "from PIL import Image\n",
    "import os\n",
    "import glob\n",
    "import tqdm\n",
    "import matplotlib.pyplot as plt"
   ]
  },
  {
   "cell_type": "code",
   "execution_count": 2,
   "metadata": {},
   "outputs": [],
   "source": [
    "img_path = glob.glob('/localdata/saurabh/dataset/theodore_v3/images/*img.png')"
   ]
  },
  {
   "cell_type": "code",
   "execution_count": null,
   "metadata": {},
   "outputs": [],
   "source": [
    "tot_r = 0    ### store sum of r-channel\n",
    "tot_g = 0    ### store sum of g-channel\n",
    "tot_b = 0    ### store sum of b-channel\n",
    "tot_pixel = 0   ### store total number of pixels\n",
    "for i, img in enumerate(tqdm.tqdm(img_path, desc='Calculate mean')):\n",
    "    ip_img = transforms.ToTensor()(Image.open(img).convert('RGB'))     ### read PIL image (H,W,C) and transform to tensor (C,H,W)\n",
    "    h, w = ip_img.shape[1], ip_img.shape[2]    ### get height and width to calculate total number of pixels\n",
    "    \n",
    "    r_sum = ip_img[0].sum()  ### sum values of al pixels in single channel for one image\n",
    "    g_sum = ip_img[1].sum()\n",
    "    b_sum = ip_img[2].sum()\n",
    "    num_pix = w * h\n",
    "    \n",
    "    tot_r += r_sum   ### sum the pixel values of all images for each channel\n",
    "    tot_g += g_sum\n",
    "    tot_b += b_sum\n",
    "    tot_pixel += num_pix   ### calculate total number of pixel for all images in dataset\n",
    "    \n",
    "    #print(tot_pixel)\n",
    "    \n",
    "    if i == 100:\n",
    "        break\n",
    "\n",
    "r_mean = tot_r / tot_pixel   # calculate mean for each channel over whole dataset\n",
    "g_mean = tot_g / tot_pixel\n",
    "b_mean = tot_b / tot_pixel\n",
    "\n",
    "print('Mean', r_mean, g_mean, b_mean)\n",
    "\n",
    "tot_r = 0     # reset variables for standard deviation\n",
    "tot_g = 0\n",
    "tot_b = 0\n",
    "\n",
    "for i, img in enumerate(tqdm.tqdm(img_path, desc='Calculate std')):\n",
    "    ip_img = transforms.ToTensor()(Image.open(img).convert('RGB'))\n",
    "    w, h = ip_img.shape[1], ip_img.shape[2]\n",
    "    \n",
    "    r_sr = (ip_img[0] - r_mean).pow(2).sum()   ### calculate sum of squared error for each channel in single image\n",
    "    g_sr = (ip_img[1] - r_mean).pow(2).sum()\n",
    "    b_sr = (ip_img[2] - r_mean).pow(2).sum()\n",
    "    \n",
    "    tot_r += r_sr   # add sum of SE of all images\n",
    "    tot_g += g_sr\n",
    "    tot_b += b_sr\n",
    "    \n",
    "    if i == 100:\n",
    "        break\n",
    "        \n",
    "r_std = torch.sqrt(tot_r / tot_pixel)    ### divide SE by total number of pixels and take square root to get std\n",
    "g_std = torch.sqrt(tot_g / tot_pixel)\n",
    "b_std = torch.sqrt(tot_b / tot_pixel)\n",
    "\n",
    "print('Std. Deviation', r_std, g_std, b_std)\n",
    "print(tot_pixel)"
   ]
  },
  {
   "cell_type": "code",
   "execution_count": null,
   "metadata": {},
   "outputs": [],
   "source": []
  },
  {
   "cell_type": "code",
   "execution_count": null,
   "metadata": {},
   "outputs": [],
   "source": []
  },
  {
   "cell_type": "code",
   "execution_count": 4,
   "metadata": {},
   "outputs": [],
   "source": []
  },
  {
   "cell_type": "code",
   "execution_count": 5,
   "metadata": {},
   "outputs": [],
   "source": []
  },
  {
   "cell_type": "markdown",
   "metadata": {},
   "source": [
    "### read the values stored n text file for normalization"
   ]
  },
  {
   "cell_type": "code",
   "execution_count": 7,
   "metadata": {},
   "outputs": [
    {
     "data": {
      "text/plain": [
       "[0.2731, 0.254, 0.2319]"
      ]
     },
     "execution_count": 7,
     "metadata": {},
     "output_type": "execute_result"
    }
   ],
   "source": [
    "st = '0.2731 0.2540 0.2319'\n",
    "st = st.split()\n",
    "st = [float(s) for s in st]\n",
    "st"
   ]
  },
  {
   "cell_type": "code",
   "execution_count": 8,
   "metadata": {},
   "outputs": [],
   "source": [
    "mean_i = st\n",
    "std_i = [0.2328, 0.2240, 0.2125]"
   ]
  },
  {
   "cell_type": "code",
   "execution_count": 9,
   "metadata": {},
   "outputs": [],
   "source": [
    "for img in img_path:\n",
    "    ip_img = (Image.open(img).convert('RGB'))\n",
    "    \n",
    "    trans = transforms.Compose([\n",
    "    transforms.ToTensor(),\n",
    "    transforms.Normalize(mean_i, std_i)\n",
    "    ])\n",
    "    \n",
    "    ip_img = trans(ip_img)\n",
    "    break"
   ]
  },
  {
   "cell_type": "code",
   "execution_count": 10,
   "metadata": {},
   "outputs": [
    {
     "data": {
      "text/plain": [
       "tensor(-1.1731)"
      ]
     },
     "execution_count": 10,
     "metadata": {},
     "output_type": "execute_result"
    }
   ],
   "source": [
    "ip_img.min()"
   ]
  },
  {
   "cell_type": "code",
   "execution_count": 5,
   "metadata": {},
   "outputs": [],
   "source": [
    "trans = transforms.Compose([\n",
    "    transforms.ToTensor(),\n",
    "    transforms.Normalize((0.5,0.5,0.5), (0.5,0.5,0.5))\n",
    "])"
   ]
  },
  {
   "cell_type": "code",
   "execution_count": null,
   "metadata": {},
   "outputs": [],
   "source": []
  },
  {
   "cell_type": "code",
   "execution_count": null,
   "metadata": {},
   "outputs": [],
   "source": []
  },
  {
   "cell_type": "code",
   "execution_count": null,
   "metadata": {},
   "outputs": [],
   "source": []
  },
  {
   "cell_type": "code",
   "execution_count": null,
   "metadata": {},
   "outputs": [],
   "source": []
  },
  {
   "cell_type": "code",
   "execution_count": null,
   "metadata": {},
   "outputs": [],
   "source": []
  },
  {
   "cell_type": "code",
   "execution_count": null,
   "metadata": {},
   "outputs": [],
   "source": []
  }
 ],
 "metadata": {
  "kernelspec": {
   "display_name": "yol",
   "language": "python",
   "name": "yol"
  },
  "language_info": {
   "codemirror_mode": {
    "name": "ipython",
    "version": 3
   },
   "file_extension": ".py",
   "mimetype": "text/x-python",
   "name": "python",
   "nbconvert_exporter": "python",
   "pygments_lexer": "ipython3",
   "version": "3.8.6"
  }
 },
 "nbformat": 4,
 "nbformat_minor": 4
}
