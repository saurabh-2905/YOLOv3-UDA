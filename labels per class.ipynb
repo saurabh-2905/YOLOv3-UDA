{
 "cells": [
  {
   "cell_type": "markdown",
   "metadata": {},
   "source": [
    "# Count labels per class\n"
   ]
  },
  {
   "cell_type": "code",
   "execution_count": 1,
   "metadata": {},
   "outputs": [],
   "source": [
    "import glob\n",
    "from collections import defaultdict\n",
    "import os\n",
    "import json\n",
    "import numpy as np\n",
    "import cv2\n",
    "from PIL import Image\n",
    "import torch"
   ]
  },
  {
   "cell_type": "code",
   "execution_count": 2,
   "metadata": {},
   "outputs": [],
   "source": [
    "#### Process and load annotatinos according to RAPID implementation\n",
    "def load_anns(img_dir,json_path):\n",
    "        coco = False\n",
    "        print(f'Loading annotations {json_path} into memory...')\n",
    "        with open(json_path, 'r') as f:\n",
    "            json_data = json.load(f)\n",
    "\n",
    "        for ann in json_data['annotations']:\n",
    "            img_id = ann['image_id']\n",
    "            #print(img_id)\n",
    "            new_ann = None\n",
    "            # get width and height \n",
    "            if not 'rbbox' in ann:\n",
    "                # using COCO dataset. 4 = [x1,y1,w,h]\n",
    "                coco = True\n",
    "                ann['bbox'][0] = ann['bbox'][0] + ann['bbox'][2] / 2\n",
    "                ann['bbox'][1] = ann['bbox'][1] + ann['bbox'][3] / 2\n",
    "                ann['bbox'].append(0)\n",
    "                if ann['bbox'][2] > ann['bbox'][3]:\n",
    "                    ann['bbox'][2],ann['bbox'][3] = ann['bbox'][3],ann['bbox'][2]\n",
    "                    ann['bbox'][4] -= 90\n",
    "                new_ann = ann['bbox']\n",
    "            else:\n",
    "                # using rotated bounding box datasets. 5 = [cx,cy,w,h,angle]\n",
    "                assert len(ann['rbbox']) == 5, 'Unknown bbox format' # x,y,w,h,a\n",
    "                new_ann = ann['rbbox']\n",
    "\n",
    "\n",
    "                if new_ann[2] > new_ann[3]:\n",
    "                    new_ann[2], new_ann[3] = new_ann[3],new_ann[2]\n",
    "                    new_ann[4] -= 90 if new_ann[4] > 0 else -90\n",
    "\n",
    "            if new_ann[2] == new_ann[3]:\n",
    "                new_ann[3] += 1 # force that w < h\n",
    "\n",
    "            new_ann[4] = np.clip(new_ann[4], -90.0, 90.0 - 1e-14)\n",
    "\n",
    "            assert new_ann[2] < new_ann[3]\n",
    "            assert new_ann[4] >= -90 and new_ann[4] < 90\n",
    "\n",
    "            # override original bounding box with rotated bounding box\n",
    "            ann['bbox'] = torch.Tensor(new_ann)\n",
    "            #print(img_id)\n",
    "            imgid2anns[img_id].append(ann)\n",
    "\n",
    "        for img in json_data['images']:\n",
    "            img_id = img['id']\n",
    "            #print(img_id)\n",
    "            assert img_id not in imgid2path\n",
    "            anns = imgid2anns[img_id]\n",
    "            # if there is crowd gt, skip this image\n",
    "            if coco and any(ann['iscrowd'] for ann in anns):\n",
    "                continue\n",
    "\n",
    "            img_ids.append(img_id)\n",
    "            imgid2path[img_id] = os.path.join(img_dir, img['file_name'])\n",
    "            imgid2info[img['id']] = img\n",
    "\n",
    "        catids = [cat['id'] for cat in json_data['categories']]"
   ]
  },
  {
   "cell_type": "code",
   "execution_count": 3,
   "metadata": {},
   "outputs": [
    {
     "name": "stdout",
     "output_type": "stream",
     "text": [
      "Loading annotations /localdata/saurabh/dataset/DST/instances_val_with_rbbox.json into memory...\n"
     ]
    }
   ],
   "source": [
    "### Store the required values generated during load_anns function\n",
    "coco =  False\n",
    "img_ids = []\n",
    "imgid2info = dict()\n",
    "imgid2path = dict()\n",
    "imgid2anns = defaultdict(list)\n",
    "catids = []\n",
    "\n",
    "load_anns(\"/localdata/saurabh/dataset/DST/val/\", \"/localdata/saurabh/dataset/DST/instances_val_with_rbbox.json\" )\n"
   ]
  },
  {
   "cell_type": "code",
   "execution_count": null,
   "metadata": {},
   "outputs": [],
   "source": []
  },
  {
   "cell_type": "code",
   "execution_count": null,
   "metadata": {},
   "outputs": [],
   "source": []
  },
  {
   "cell_type": "code",
   "execution_count": 5,
   "metadata": {},
   "outputs": [],
   "source": [
    "all_labels = []\n",
    "for i_d in range(len(imgid2info)):\n",
    "    annotation = imgid2anns[i_d+1]\n",
    "    for anno in annotation:\n",
    "        all_labels += [anno['category_id']]\n",
    "    \n",
    "    #break"
   ]
  },
  {
   "cell_type": "code",
   "execution_count": 6,
   "metadata": {},
   "outputs": [
    {
     "name": "stdout",
     "output_type": "stream",
     "text": [
      "3482\n",
      "610\n",
      "629\n",
      "625\n",
      "629\n",
      "1126\n"
     ]
    }
   ],
   "source": [
    "labels = ['person', 'chair', 'table', 'armchair', 'tv', 'wheeled_walker']\n",
    "label_count = {}\n",
    "for lab in range(1,7):\n",
    "    count = np.where(np.array(all_labels) == lab)[0]\n",
    "    label_count[labels[lab-1]] = len(count)\n",
    "    print(len(count))\n",
    "    \n",
    "    #break"
   ]
  },
  {
   "cell_type": "code",
   "execution_count": 7,
   "metadata": {},
   "outputs": [
    {
     "data": {
      "text/plain": [
       "{'person': 3482,\n",
       " 'chair': 610,\n",
       " 'table': 629,\n",
       " 'armchair': 625,\n",
       " 'tv': 629,\n",
       " 'wheeled_walker': 1126}"
      ]
     },
     "execution_count": 7,
     "metadata": {},
     "output_type": "execute_result"
    }
   ],
   "source": [
    "label_count"
   ]
  },
  {
   "cell_type": "code",
   "execution_count": null,
   "metadata": {},
   "outputs": [],
   "source": []
  },
  {
   "cell_type": "code",
   "execution_count": null,
   "metadata": {},
   "outputs": [],
   "source": []
  },
  {
   "cell_type": "code",
   "execution_count": null,
   "metadata": {},
   "outputs": [],
   "source": []
  },
  {
   "cell_type": "code",
   "execution_count": null,
   "metadata": {},
   "outputs": [],
   "source": []
  },
  {
   "cell_type": "code",
   "execution_count": null,
   "metadata": {},
   "outputs": [],
   "source": []
  },
  {
   "cell_type": "code",
   "execution_count": null,
   "metadata": {},
   "outputs": [],
   "source": []
  },
  {
   "cell_type": "code",
   "execution_count": null,
   "metadata": {},
   "outputs": [],
   "source": []
  },
  {
   "cell_type": "code",
   "execution_count": null,
   "metadata": {},
   "outputs": [],
   "source": []
  },
  {
   "cell_type": "code",
   "execution_count": null,
   "metadata": {},
   "outputs": [],
   "source": []
  }
 ],
 "metadata": {
  "kernelspec": {
   "display_name": "yol",
   "language": "python",
   "name": "yol"
  },
  "language_info": {
   "codemirror_mode": {
    "name": "ipython",
    "version": 3
   },
   "file_extension": ".py",
   "mimetype": "text/x-python",
   "name": "python",
   "nbconvert_exporter": "python",
   "pygments_lexer": "ipython3",
   "version": "3.8.6"
  }
 },
 "nbformat": 4,
 "nbformat_minor": 4
}
